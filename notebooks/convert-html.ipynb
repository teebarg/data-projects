{
 "cells": [
  {
   "cell_type": "code",
   "execution_count": 4,
   "id": "9d8fb0e3-ed52-4b69-bc02-79083b1a9812",
   "metadata": {},
   "outputs": [],
   "source": [
    "import os\n",
    "from bs4 import BeautifulSoup\n",
    "from jinja2 import Template"
   ]
  },
  {
   "cell_type": "code",
   "execution_count": 5,
   "id": "bc7333c8",
   "metadata": {},
   "outputs": [],
   "source": [
    "def camelcase(word: str) -> str:\n",
    "    new_string = word.replace('-', ' ').split()\n",
    "    if len(new_string) < 2:\n",
    "        return word\n",
    "    new_string = new_string[0].lower() + ''.join(word.capitalize() for word in new_string[1:])\n",
    "    return new_string"
   ]
  },
  {
   "cell_type": "code",
   "execution_count": 6,
   "id": "0d2a2238-d89e-4e63-8217-be9b418920fb",
   "metadata": {},
   "outputs": [],
   "source": [
    "def convert_html_to_jsx(element):\n",
    "    tag_name = element.name\n",
    "    if tag_name is None:\n",
    "        return element.string\n",
    "\n",
    "    attributes = []\n",
    "    for attr, value in element.attrs.items():\n",
    "        if attr in [\"data-slot\", \"data-in-range\", \"data-orientation\", \"aria-label\", \"aria-labelledby\", \"aria-describedby\", \"aria-hidden\", \"aria-expanded\"]:\n",
    "            attr = attr\n",
    "        elif attr == 'class':\n",
    "            attr = 'className'\n",
    "        elif attr == 'for':\n",
    "            attr = 'htmlFor'\n",
    "        else:\n",
    "            attr = camelcase(attr)\n",
    "\n",
    "        if attr == 'style':\n",
    "            # Handling style\n",
    "            temp = []\n",
    "            for item in value.split(\";\"):\n",
    "                if not item:\n",
    "                    continue\n",
    "                t1 = item.split(\":\")\n",
    "                temp.append(\":\".join([camelcase(t1[0].strip()), f'\"{t1[1].strip()}\"']) if len(t1) > 1 else \"beaf:'check'\")\n",
    "            new_value = \"{{ %s }}\" % (\", \".join(temp))\n",
    "            attributes.append(f'style={new_value}')\n",
    "            continue\n",
    "        attributes.append(f'{attr}=\"{\" \".join(value) if isinstance(value, list) else value }\"')\n",
    "\n",
    "    attributes_str = ' '.join(attributes)\n",
    "\n",
    "    if len(element.contents) == 0:\n",
    "        return f'<{tag_name} {attributes_str} />'\n",
    "\n",
    "    children = ''.join([convert_html_to_jsx(child) for child in element.contents])\n",
    "\n",
    "    return f'<{tag_name} {attributes_str}>{children}</{tag_name}>'"
   ]
  },
  {
   "cell_type": "code",
   "execution_count": 7,
   "id": "f2d73534-6853-4bf9-8967-2a28f8081eca",
   "metadata": {},
   "outputs": [],
   "source": [
    "def convert_html_file_to_react(html_file_path, react_file_path):\n",
    "    with open(html_file_path, 'r', encoding='utf-8') as file:\n",
    "        html_content = file.read()\n",
    "\n",
    "    soup = BeautifulSoup(html_content, 'html.parser')\n",
    "    # body = soup.body\n",
    "\n",
    "    # react_component = ''.join([convert_html_to_jsx(child) for child in body.children])\n",
    "    react_component = ''.join([convert_html_to_jsx(soup)])\n",
    "\n",
    "    component_template = Template('''import React from 'react';\n",
    "\n",
    "const OutputComponent = () => (\n",
    "                                {{ component_content | safe }}\n",
    "                                );\n",
    "\n",
    "export default OutputComponent;\n",
    "''')\n",
    "\n",
    "    rendered_component = component_template.render(component_content=react_component)\n",
    "    # os.makedirs(os.path.dirname(react_file_path), exist_ok=True)\n",
    "    # Ensure the output directory exists\n",
    "    os.makedirs(os.path.dirname(react_file_path), exist_ok=True)\n",
    "\n",
    "    with open(react_file_path, 'w', encoding='utf-8') as file:\n",
    "        file.write(rendered_component)\n",
    "\n",
    "    print('React component has been created successfully!')"
   ]
  },
  {
   "cell_type": "code",
   "execution_count": 8,
   "id": "8f03a6be-bae6-4644-90c8-a96c2a684e22",
   "metadata": {},
   "outputs": [],
   "source": [
    "html_file_path = 'input.html'\n",
    "react_file_path = 'output/OutputComponent.tsx'"
   ]
  },
  {
   "cell_type": "code",
   "execution_count": 9,
   "id": "c842a91e-b50d-4f62-8f01-f38cc1b2214c",
   "metadata": {},
   "outputs": [
    {
     "name": "stdout",
     "output_type": "stream",
     "text": [
      "React component has been created successfully!\n"
     ]
    }
   ],
   "source": [
    "convert_html_file_to_react(html_file_path, react_file_path)"
   ]
  }
 ],
 "metadata": {
  "kernelspec": {
   "display_name": "Python 3 (ipykernel)",
   "language": "python",
   "name": "python3"
  },
  "language_info": {
   "codemirror_mode": {
    "name": "ipython",
    "version": 3
   },
   "file_extension": ".py",
   "mimetype": "text/x-python",
   "name": "python",
   "nbconvert_exporter": "python",
   "pygments_lexer": "ipython3",
   "version": "3.11.9"
  }
 },
 "nbformat": 4,
 "nbformat_minor": 5
}
