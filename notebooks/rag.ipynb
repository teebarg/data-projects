{
 "cells": [
  {
   "cell_type": "code",
   "execution_count": 1,
   "metadata": {},
   "outputs": [
    {
     "name": "stderr",
     "output_type": "stream",
     "text": [
      "/opt/miniconda3/envs/dev/lib/python3.11/site-packages/tqdm/auto.py:21: TqdmWarning: IProgress not found. Please update jupyter and ipywidgets. See https://ipywidgets.readthedocs.io/en/stable/user_install.html\n",
      "  from .autonotebook import tqdm as notebook_tqdm\n"
     ]
    }
   ],
   "source": [
    "from transformers import BertTokenizer, BertModel, GPT2Tokenizer, GPT2LMHeadModel\n",
    "import torch\n",
    "import faiss\n",
    "import numpy as np"
   ]
  },
  {
   "cell_type": "code",
   "execution_count": 2,
   "metadata": {},
   "outputs": [],
   "source": [
    "# Load pre-trained model and tokenizer\n",
    "tokenizer = BertTokenizer.from_pretrained('bert-base-uncased')\n",
    "model = BertModel.from_pretrained('bert-base-uncased')\n",
    "\n",
    "# Example documents\n",
    "documents = [\"Document 1 text\", \"Document 2 text\", \"Document 3 text\"]\n"
   ]
  },
  {
   "cell_type": "code",
   "execution_count": 3,
   "metadata": {},
   "outputs": [],
   "source": [
    "# Encode documents\n",
    "def encode_documents(documents):\n",
    "    embeddings = []\n",
    "    for doc in documents:\n",
    "        inputs = tokenizer(doc, return_tensors='pt', truncation=True, padding=True, max_length=512)\n",
    "        outputs = model(**inputs)\n",
    "        embeddings.append(outputs.last_hidden_state.mean(dim=1).detach().numpy())\n",
    "    return np.vstack(embeddings)\n",
    "\n",
    "document_embeddings = encode_documents(documents)\n",
    "\n",
    "# Create FAISS index\n",
    "index = faiss.IndexFlatL2(document_embeddings.shape[1])\n",
    "index.add(document_embeddings)"
   ]
  },
  {
   "cell_type": "code",
   "execution_count": 4,
   "metadata": {},
   "outputs": [],
   "source": [
    "# Load pre-trained GPT-2 model and tokenizer for text generation\n",
    "gpt_tokenizer = GPT2Tokenizer.from_pretrained('gpt2')\n",
    "gpt_model = GPT2LMHeadModel.from_pretrained('gpt2')\n",
    "\n",
    "# Function to generate text\n",
    "def generate_text(prompt):\n",
    "    inputs = gpt_tokenizer.encode(prompt, return_tensors='pt')\n",
    "    outputs = gpt_model.generate(inputs, max_length=150, num_return_sequences=1)\n",
    "    return gpt_tokenizer.decode(outputs[0], skip_special_tokens=True)"
   ]
  },
  {
   "cell_type": "code",
   "execution_count": 5,
   "metadata": {},
   "outputs": [
    {
     "ename": "",
     "evalue": "",
     "output_type": "error",
     "traceback": [
      "\u001b[1;31mThe Kernel crashed while executing code in the current cell or a previous cell. \n",
      "\u001b[1;31mPlease review the code in the cell(s) to identify a possible cause of the failure. \n",
      "\u001b[1;31mClick <a href='https://aka.ms/vscodeJupyterKernelCrash'>here</a> for more info. \n",
      "\u001b[1;31mView Jupyter <a href='command:jupyter.viewOutput'>log</a> for further details."
     ]
    }
   ],
   "source": [
    "# Combine Retrieval and Generation\n",
    "def rag_model(query, top_k=3):\n",
    "    # Step 1: Retrieve relevant documents\n",
    "    query_embedding = encode_documents([query])[0]\n",
    "    distances, indices = index.search(query_embedding.reshape(1, -1), top_k)\n",
    "    retrieved_docs = [documents[idx] for idx in indices[0]]\n",
    "\n",
    "    # Step 2: Concatenate retrieved documents to form context\n",
    "    context = \" \".join(retrieved_docs)\n",
    "\n",
    "    # Step 3: Generate response using the generative model\n",
    "    prompt = f\"Context: {context}\\n\\nQuestion: {query}\\nAnswer:\"\n",
    "    response = generate_text(prompt)\n",
    "\n",
    "    return response"
   ]
  },
  {
   "cell_type": "code",
   "execution_count": 6,
   "metadata": {},
   "outputs": [],
   "source": [
    "# Example usage\n",
    "query = \"How can I enable dark mode in the latest version of your software?\"\n",
    "response = rag_model(query)\n",
    "print(response)"
   ]
  }
 ],
 "metadata": {
  "kernelspec": {
   "display_name": "dev",
   "language": "python",
   "name": "python3"
  },
  "language_info": {
   "codemirror_mode": {
    "name": "ipython",
    "version": 3
   },
   "file_extension": ".py",
   "mimetype": "text/x-python",
   "name": "python",
   "nbconvert_exporter": "python",
   "pygments_lexer": "ipython3",
   "version": "3.11.9"
  }
 },
 "nbformat": 4,
 "nbformat_minor": 2
}
