{
 "cells": [
  {
   "cell_type": "code",
   "execution_count": 3,
   "id": "ce4d7715-1df6-4d4d-a46b-3bffc35d496d",
   "metadata": {},
   "outputs": [
    {
     "name": "stdout",
     "output_type": "stream",
     "text": [
      "scikit-learn version: 1.3.1\n",
      "TensorFlow version: 2.16.1\n",
      "Keras version: 3.3.3\n",
      "XGBoost version: 2.0.3\n",
      "LightGBM version: 4.3.0\n",
      "Pandas version: 2.1.1\n",
      "NumPy version: 1.24.4\n",
      "Matplotlib version: 3.8.0\n",
      "Seaborn version: 0.13.0\n"
     ]
    }
   ],
   "source": [
    "import sklearn\n",
    "import tensorflow as tf\n",
    "import keras\n",
    "import xgboost\n",
    "import lightgbm\n",
    "import pandas as pd\n",
    "import numpy as np\n",
    "import matplotlib\n",
    "import seaborn as sns\n",
    "\n",
    "print(\"scikit-learn version:\", sklearn.__version__)\n",
    "print(\"TensorFlow version:\", tf.__version__)\n",
    "print(\"Keras version:\", keras.__version__)\n",
    "print(\"XGBoost version:\", xgboost.__version__)\n",
    "print(\"LightGBM version:\", lightgbm.__version__)\n",
    "print(\"Pandas version:\", pd.__version__)\n",
    "print(\"NumPy version:\", np.__version__)\n",
    "print(\"Matplotlib version:\", matplotlib.__version__)\n",
    "print(\"Seaborn version:\", sns.__version__)\n"
   ]
  },
  {
   "cell_type": "code",
   "execution_count": null,
   "id": "2269e1ab-4c9d-407c-bdf0-7617092aeb9d",
   "metadata": {},
   "outputs": [],
   "source": []
  }
 ],
 "metadata": {
  "kernelspec": {
   "display_name": "Python 3 (ipykernel)",
   "language": "python",
   "name": "python3"
  },
  "language_info": {
   "codemirror_mode": {
    "name": "ipython",
    "version": 3
   },
   "file_extension": ".py",
   "mimetype": "text/x-python",
   "name": "python",
   "nbconvert_exporter": "python",
   "pygments_lexer": "ipython3",
   "version": "3.11.6"
  }
 },
 "nbformat": 4,
 "nbformat_minor": 5
}
