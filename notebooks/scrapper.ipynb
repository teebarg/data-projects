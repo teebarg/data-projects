{
 "cells": [
  {
   "cell_type": "code",
   "execution_count": 182,
   "metadata": {},
   "outputs": [],
   "source": [
    "import requests\n",
    "from bs4 import BeautifulSoup\n",
    "import gspread\n",
    "# from oauth2client.service_account import ServiceAccountCredentials\n",
    "import firebase_admin\n",
    "from firebase_admin import credentials, storage\n",
    "import os\n",
    "from urllib.parse import urlparse\n",
    "import re\n",
    "import unicodedata"
   ]
  },
  {
   "cell_type": "code",
   "execution_count": 183,
   "metadata": {},
   "outputs": [],
   "source": [
    "url = \"https://www.childrensplace.com/us/p/Girls-Long-Sleeve-Open-Front-Cardigan-3049648-327S\""
   ]
  },
  {
   "cell_type": "code",
   "execution_count": 184,
   "metadata": {},
   "outputs": [],
   "source": [
    "# response = requests.get(url).text\n",
    "with open(\"input.html\", 'r', encoding='utf-8') as file:\n",
    "        response = file.read()"
   ]
  },
  {
   "cell_type": "code",
   "execution_count": 185,
   "metadata": {},
   "outputs": [],
   "source": [
    "def create_slug(text):\n",
    "    # Convert the text to lowercase\n",
    "    text = text.lower()\n",
    "\n",
    "    # Remove non-word characters (everything except numbers and letters)\n",
    "    text = re.sub(r'[^\\w\\s-]', '', text)\n",
    "\n",
    "    # Replace all runs of whitespace with a single dash\n",
    "    text = re.sub(r'\\s+', '-', text)\n",
    "\n",
    "    # Remove leading/trailing dashes\n",
    "    text = text.strip('-')\n",
    "\n",
    "    # Handle unicode characters\n",
    "    text = unicodedata.normalize('NFKD', text).encode('ascii', 'ignore').decode('ascii')\n",
    "\n",
    "    return text"
   ]
  },
  {
   "cell_type": "code",
   "execution_count": 186,
   "metadata": {},
   "outputs": [
    {
     "name": "stdout",
     "output_type": "stream",
     "text": [
      "🚀 ~ product_desc: Made of 100% polyester flannel\n",
      "https://assets.theplace.com/image/upload/t_pdp_img_d,f_auto,q_auto/v1/ecom/assets/products/tcp/3023881/3023881_01.png\n",
      "1x,\n",
      "https://assets.theplace.com/image/upload/t_pdp_img_d,f_auto,q_auto,dpr_1.5/v1/ecom/assets/products/tcp/3023881/3023881_01.png\n",
      "2x,\n",
      "https://assets.theplace.com/image/upload/t_pdp_img_d,f_auto,q_auto,dpr_3.0/v1/ecom/assets/products/tcp/3023881/3023881_01.png\n",
      "3x\n",
      "https://assets.theplace.com/image/upload/t_pdp_img_d,f_auto,q_auto/v1/ecom/assets/products/tcp/3023881/3023881_01.png\n",
      "unisex-kids-plaid-flannel-pajamas---black\n"
     ]
    }
   ],
   "source": [
    "# print(response)\n",
    "soup = BeautifulSoup(response, 'html.parser')\n",
    "\n",
    "# print(soup)\n",
    "\n",
    "try:\n",
    "    # Modify these selectors based on the website's structure\n",
    "    product_name = soup.select_one('h1.product-title').text.strip()\n",
    "    product_price = soup.select_one('p.actual-price').text.strip().replace(\"$\", \"\")\n",
    "    product_image_url = soup.select_one('div.product-image-wrapper.product-wrapper-inline source')['srcset']\n",
    "    product_desc = soup.select_one('div.product-description-list li').text.strip()\n",
    "\n",
    "    # image_url = product_image_url.split(\" \")[-2]\n",
    "    # image_url = product_image_url.split(\" \")[2]\n",
    "    image_url = product_image_url.split(\" \")[0]\n",
    "    slug = create_slug(product_name)\n",
    "    image_name = f\"{slug}.png\"\n",
    "    print(image_url)\n",
    "    print(slug)\n",
    "    # product_description = soup.select_one('CSS_SELECTOR_FOR_PRODUCT_DESCRIPTION').text.strip()\n",
    "    # product_image_url = soup.select_one('CSS_SELECTOR_FOR_PRODUCT_IMAGE')['src']\n",
    "except Exception as e:\n",
    "    print(e)"
   ]
  },
  {
   "cell_type": "code",
   "execution_count": 187,
   "metadata": {},
   "outputs": [],
   "source": [
    "id = \"1O_MJRgc67xHE4T6ATfzCBLKqmLMirWmwBIZwRh5y6Jg\""
   ]
  },
  {
   "cell_type": "code",
   "execution_count": 188,
   "metadata": {},
   "outputs": [
    {
     "data": {
      "text/plain": [
       "{'spreadsheetId': '1O_MJRgc67xHE4T6ATfzCBLKqmLMirWmwBIZwRh5y6Jg',\n",
       " 'tableRange': 'products!A1:G42',\n",
       " 'updates': {'spreadsheetId': '1O_MJRgc67xHE4T6ATfzCBLKqmLMirWmwBIZwRh5y6Jg',\n",
       "  'updatedRange': 'products!A43:G43',\n",
       "  'updatedRows': 1,\n",
       "  'updatedColumns': 7,\n",
       "  'updatedCells': 7}}"
      ]
     },
     "execution_count": 188,
     "metadata": {},
     "output_type": "execute_result"
    }
   ],
   "source": [
    "\n",
    "# Set up credentials (you'll need to create a service account and download the JSON key)\n",
    "# scope = ['https://spreadsheets.google.com/feeds', 'https://www.googleapis.com/auth/drive']\n",
    "# creds = ServiceAccountCredentials.from_json_keyfile_name('./shopit.json', scope)\n",
    "# client = gspread.authorize(creds)\n",
    "\n",
    "gc = gspread.service_account(filename='shopit.json')\n",
    "# gc = gspread.oauth()\n",
    "\n",
    "\n",
    "# Open the Google Sheet (replace with your sheet ID)\n",
    "sht2 = gc.open_by_key(id).sheet1\n",
    "\n",
    "sht2.append_row([product_name, slug, product_desc, float(product_price) * 1500, 0, image_name, 4.9])\n"
   ]
  },
  {
   "cell_type": "code",
   "execution_count": 189,
   "metadata": {},
   "outputs": [],
   "source": [
    "# Initialize Firebase app (you'll need to set up a Firebase project and download the credentials)\n",
    "cred = credentials.Certificate('firebase-credentials.json')\n",
    "if not firebase_admin._apps:\n",
    "    firebase_admin.initialize_app(cred, {'storageBucket': 'shopit-ebc60.appspot.com'})\n",
    "\n",
    "# Download the image\n",
    "response = requests.get(image_url)\n",
    "# image_name = f\"{product_name}.jpg\"\n",
    "with open(image_name, 'wb') as f:\n",
    "    f.write(response.content)\n",
    "\n",
    "# Upload to Firebase Storage\n",
    "bucket = storage.bucket()\n",
    "blob = bucket.blob(f\"products/{image_name}\")\n",
    "blob.upload_from_filename(image_name)\n",
    "\n",
    "# Clean up the local file\n",
    "os.remove(image_name)"
   ]
  },
  {
   "cell_type": "code",
   "execution_count": null,
   "metadata": {},
   "outputs": [],
   "source": []
  }
 ],
 "metadata": {
  "kernelspec": {
   "display_name": "dev",
   "language": "python",
   "name": "python3"
  },
  "language_info": {
   "codemirror_mode": {
    "name": "ipython",
    "version": 3
   },
   "file_extension": ".py",
   "mimetype": "text/x-python",
   "name": "python",
   "nbconvert_exporter": "python",
   "pygments_lexer": "ipython3",
   "version": "3.11.9"
  }
 },
 "nbformat": 4,
 "nbformat_minor": 2
}
